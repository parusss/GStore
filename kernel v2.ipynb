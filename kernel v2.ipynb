{
 "cells": [
  {
   "cell_type": "markdown",
   "metadata": {
    "_uuid": "dddabb983cddc6cc669dfede6c3cb434a6d269cf"
   },
   "source": [
    "Data are generated from this script : https://www.kaggle.com/qnkhuat/make-data-ready"
   ]
  },
  {
   "cell_type": "code",
   "execution_count": 1,
   "metadata": {
    "_cell_guid": "b1076dfc-b9ad-4769-8c92-a6c4dae69d19",
    "_uuid": "8f2839f25d086af736a60e9eeb907d3b93b6e0e5"
   },
   "outputs": [
    {
     "data": {
      "text/html": [
       "<style>.container{width:95% !important;}</style>"
      ],
      "text/plain": [
       "<IPython.core.display.HTML object>"
      ]
     },
     "metadata": {},
     "output_type": "display_data"
    },
    {
     "name": "stdout",
     "output_type": "stream",
     "text": [
      "['results.zip', 'test_0.pkl', 'test_1.pkl', 'test_2.pkl', 'train_0.pkl', 'train_1.pkl', 'train_2.pkl', 'train_3.pkl', 'train_4.pkl', 'train_5.pkl', 'train_6.pkl', 'train_7.pkl', 'train_8.pkl']\n"
     ]
    }
   ],
   "source": [
    "# This Python 3 environment comes with many helpful analytics libraries installed\n",
    "# It is defined by the kaggle/python docker image: https://github.com/kaggle/docker-python\n",
    "# For example, here's several helpful packages to load in \n",
    "\n",
    "import numpy as np # linear algebra\n",
    "import pandas as pd # data processing, CSV file I/O (e.g. pd.read_csv)\n",
    "from datetime import datetime\n",
    "\n",
    "from IPython.core.display import display,HTML\n",
    "display(HTML(\"<style>.container{width:95% !important;}</style>\"))\n",
    "pd.options.display.max_columns = 999\n",
    "#plt.rcParams['figure.figsize'] = (12,6)\n",
    "# Input data files are available in the \"../input/\" directory.\n",
    "# For example, running this (by clicking run or pressing Shift+Enter) will list the files in the input directory\n",
    "\n",
    "import os\n",
    "from os.path import join as pjoin\n",
    "\n",
    "data_root = 'input/make-data-ready'\n",
    "print(os.listdir(data_root))\n",
    "\n",
    "# Any results you write to the current directory are saved as output."
   ]
  },
  {
   "cell_type": "markdown",
   "metadata": {
    "_uuid": "fed79ee0e6bd26d348d02b8c7b59886c3afe22c2"
   },
   "source": [
    "# Import and load data"
   ]
  },
  {
   "cell_type": "code",
   "execution_count": 2,
   "metadata": {
    "_cell_guid": "79c7e3d0-c299-4dcb-8224-4455121ee9b0",
    "_uuid": "d629ff2d2480ee46fbb7e2d37f6b5fab8052498a"
   },
   "outputs": [],
   "source": [
    "import numpy as np\n",
    "import pandas as pd\n",
    "\n",
    "from sklearn.metrics import mean_squared_error\n",
    "from sklearn.preprocessing import LabelEncoder\n",
    "from sklearn.ensemble import RandomForestRegressor as RFF\n",
    "import xgboost as xgb\n",
    "from sklearn.model_selection import GridSearchCV, RandomizedSearchCV,train_test_split, TimeSeriesSplit\n",
    "from pprint import pprint\n",
    "import math\n",
    "\n",
    "from scipy.stats import kurtosis, skew\n"
   ]
  },
  {
   "cell_type": "code",
   "execution_count": 3,
   "metadata": {
    "_uuid": "42d57caae8977328d06ce1191632cd93f93cceff"
   },
   "outputs": [],
   "source": [
    "\n",
    "import seaborn as sns\n",
    "import matplotlib.pyplot as plt\n",
    "#import shap\n",
    "plt.rcParams['figure.figsize'] = (12,6)"
   ]
  },
  {
   "cell_type": "code",
   "execution_count": 4,
   "metadata": {
    "_uuid": "c3cc9e31f9c51f1fd66593d2fd0cb3963e880f12"
   },
   "outputs": [],
   "source": [
    "def load_data(data='train',n=2):\n",
    "    df = pd.DataFrame()\n",
    "    for i in range(n) :\n",
    "        if data=='train':\n",
    "            if i > 8 :\n",
    "                break\n",
    "            dfpart = pd.read_pickle(pjoin(data_root,f'train_{i}.pkl'))\n",
    "        elif data=='test':\n",
    "            if i > 2 :\n",
    "                break\n",
    "            dfpart = pd.read_pickle(pjoin(data_root,f'test_{i}.pkl'))\n",
    "        df = pd.concat([df,dfpart])\n",
    "        del dfpart\n",
    "    return df\n",
    "        "
   ]
  },
  {
   "cell_type": "code",
   "execution_count": 5,
   "metadata": {
    "_uuid": "711b2ff1d23636474cbf8cbd63ed852d4853499d",
    "scrolled": false
   },
   "outputs": [],
   "source": [
    "df_train = load_data(n=9)\n",
    "df_test = load_data('test',n=4)"
   ]
  },
  {
   "cell_type": "code",
   "execution_count": 6,
   "metadata": {
    "_uuid": "660a0bb0b6ac94d469e290bddbf0b32ca55bf0ff",
    "scrolled": false
   },
   "outputs": [
    {
     "name": "stdout",
     "output_type": "stream",
     "text": [
      "# of columns has na value: 0\n"
     ]
    }
   ],
   "source": [
    "print(f'# of columns has na value: {(df_test.isnull().sum().sort_values(ascending=False) > 0).sum()}')"
   ]
  },
  {
   "cell_type": "markdown",
   "metadata": {
    "_uuid": "3609ea5ecb4ea0a721136c3fc804b48877df40fd"
   },
   "source": [
    "# Base model"
   ]
  },
  {
   "cell_type": "code",
   "execution_count": 7,
   "metadata": {
    "_uuid": "6c8fa14fd59dfe63ee72f2b5f8f1f8768894170e"
   },
   "outputs": [],
   "source": [
    "def rmse(y_true, y_pred):\n",
    "    return round(np.sqrt(mean_squared_error(y_true, y_pred)), 5)\n",
    "\n",
    "def split_data(df=df_train,rate=.8):\n",
    "    # sort the date first\n",
    "    df = df.sort_values('date').copy()\n",
    "    \n",
    "    df.drop(['fullVisitorId','visitId','visitStartTime'],axis=1,inplace=True)\n",
    "    df['Revenue'] = np.log1p(df['Revenue'])\n",
    "    \n",
    "    global X_train,X_valid,y_train,y_valid\n",
    "    \n",
    "    n_train = int(len(df)*rate)\n",
    "    X_train = df.drop(['Revenue','date'],axis=1).iloc[:n_train]\n",
    "    X_valid = df.drop(['Revenue','date'],axis=1).iloc[n_train:]\n",
    "    \n",
    "    y_train = df['Revenue'].iloc[:n_train]\n",
    "    y_valid = df['Revenue'].iloc[n_train:]\n",
    "    \n",
    "    print(X_train.shape,X_valid.shape)\n",
    "    \n",
    "    \n",
    "\n",
    "def encode_data(verbose=False):\n",
    "    global df_train_encoded,df_test_encoded\n",
    "    df_train_encoded = df_train.copy()\n",
    "    df_test_encoded = df_test.copy()\n",
    "    for col in df_train.columns:\n",
    "        if df_train_encoded[col].dtype == 'object' and col not in ['fullVisitorId','visitId','visitStartTime','date']:\n",
    "            if verbose:\n",
    "                print(col)\n",
    "            lb = LabelEncoder()\n",
    "            lb.fit( list(df_train_encoded[col].unique()) + list(df_test_encoded[col].unique()))\n",
    "            df_train_encoded[col] = lb.transform(df_train_encoded[col])\n",
    "            df_test_encoded[col] = lb.transform(df_test_encoded[col])\n",
    "        \n",
    "def run_xgb():\n",
    "   \n",
    "    params = {\n",
    "        'objective':'reg:linear',\n",
    "        'eval_metric':'rmse',\n",
    "        'learning_rate':.01,\n",
    "        'eta': 0.15, # Step size shrinkage used in update to prevents overfitting\n",
    "#         'max_depth': 10, # V3 : 1.0471 on LB\n",
    "#         'max_depth':5, # V5 : 0.9331 on LB\n",
    "        'subsample': 0.6, # sample of rows\n",
    "        'colsample_bytree': 0.6, # sample of features\n",
    "#         'alpha':0.001, \n",
    "        'lambda':1, # l2 regu\n",
    "        'random_state': 42,\n",
    "        'silent':True\n",
    "        \n",
    "    }\n",
    "    \n",
    "    \n",
    "    # got params from https://www.kaggle.com/kailex/group-xgb-for-gstore-v2\n",
    "    params['n_thread'] = -1\n",
    "    params['max_depth'] = 8\n",
    "    params['min_child_weight'] = 100\n",
    "    params['gamma'] = 5\n",
    "    params['subsample'] = 1\n",
    "    params['colsample_bytree'] = .95\n",
    "    params['colsample_bylevel'] = 0.35\n",
    "    params['alpha'] = 25\n",
    "    params['lambda'] = 25\n",
    "    \n",
    "    xgb_train_data = xgb.DMatrix(X_train, y_train)\n",
    "    xgb_val_data = xgb.DMatrix(X_valid, y_valid)\n",
    "    \n",
    "    model = xgb.train(params, xgb_train_data,\n",
    "#           num_boost_round=1000, # V3 : 1.0471 on LB\n",
    "#           num_boost_round=200, # 1.0471 on LB\n",
    "          num_boost_round = 210,\n",
    "          evals= [(xgb_train_data, 'train'), (xgb_val_data, 'valid')],\n",
    "#           early_stopping_rounds=10, # V11 0.9301 on LB\n",
    "          early_stopping_rounds=50, \n",
    "          verbose_eval=20\n",
    "         )\n",
    "    return model\n",
    "\n",
    "def submit():\n",
    "    test_matrix = xgb.DMatrix(X_test)\n",
    "    y_pred = clf.predict(test_matrix,ntree_limit=clf.best_ntree_limit)\n",
    "    df_test['PredictedLogRevenue'] = y_pred\n",
    "    engineer_prediction\n",
    "    print('rmse after engineer prediction')\n",
    "    print(rmse(y_pred,df_test['PredictedLogRevenue']))\n",
    "    submit = df_test[['PredictedLogRevenue','fullVisitorId']].groupby('fullVisitorId').PredictedLogRevenue.sum().reset_index()\n",
    "    #submit.to_csv('submit.csv',index=False)\n",
    "    return submit\n",
    "    \n",
    "    test(y_pred)\n",
    "    \n",
    "    \n",
    "def engineer_prediction(df_test):\n",
    "    df_test[df_test['totals_hits'] == 1].PredictedLogRevenue = 0\n",
    "    df_test[df_test['totals_timeOnSite'] == 0].PredictedLogRevenue = 0\n",
    "    df_test[df_test['totals_bouces'] == 1].PredictedLogRevenue = 0\n",
    "    return dftest\n",
    "    \n",
    "    \n",
    "def test(predict):\n",
    "    y_test = np.log1p(df_test['totals_transactionRevenue'])\n",
    "    print(rmse(y_test,predict))\n"
   ]
  },
  {
   "cell_type": "code",
   "execution_count": 8,
   "metadata": {
    "_uuid": "c803f389fc7a88ef267e7ed031e0b0649a910ce8"
   },
   "outputs": [],
   "source": [
    "def prepare_data(df_train,df_test,\n",
    "                 del_col=['fullVisitorId','visitId','visitStartTime','date'],to_log=None):\n",
    "    df_train = df_train.sort_values('date').copy()\n",
    "    \n",
    "    df_train = df_train.drop(del_col,axis=1).copy()\n",
    "    df_test = df_test.drop(del_col,axis=1).copy()\n",
    "    \n",
    "    # Log some column\n",
    "    if to_log is not None:\n",
    "        df_train[to_log] = np.log1p(df_train[to_log])\n",
    "        df_test[to_log] = np.log1p(df_test[to_log])\n",
    "    \n",
    "    # totals_transactionRevenue\n",
    "    df_train['totals_transactionRevenue'] = np.log1p(df_train['totals_transactionRevenue'])\n",
    "    df_test['totals_transactionRevenue'] = np.log1p(df_test['totals_transactionRevenue'])\n",
    "    \n",
    "    global X_train,X_valid,y_train,y_valid,X_test,y_test\n",
    "    # 80/20 : train/valid\n",
    "    n_train = int(len(df_train)*.8)\n",
    "    \n",
    "    # split\n",
    "    X_train = df_train.drop(['totals_transactionRevenue'],axis=1).iloc[:n_train]\n",
    "    X_valid = df_train.drop(['totals_transactionRevenue'],axis=1).iloc[n_train:]\n",
    "    \n",
    "    y_train = df_train['totals_transactionRevenue'].iloc[:n_train]\n",
    "    y_valid = df_train['totals_transactionRevenue'].iloc[n_train:]\n",
    "    \n",
    "    X_test = df_test.drop(['totals_transactionRevenue'],axis=1)\n",
    "    y_test = df_test['totals_transactionRevenue']\n",
    "    \n",
    "    "
   ]
  },
  {
   "cell_type": "code",
   "execution_count": 9,
   "metadata": {
    "_uuid": "66568ffac07e4667abb96a0dd46bd640477ff086"
   },
   "outputs": [],
   "source": [
    "def feature_engineering(df):\n",
    "    df = df.copy()\n",
    "    # Copy from : https://www.kaggle.com/qnkhuat/base-model-v2-with-with-full-features/edit\n",
    "    \n",
    "    # time based\n",
    "    df['month'] = df['date'].dt.month\n",
    "    df['day'] = df['date'].dt.day\n",
    "    df['weekday'] = df['date'].dt.weekday\n",
    "    df['weekofyear'] = df['date'].dt.weekofyear\n",
    "    \n",
    "    df['browser_category'] = df['device_browser'] + '_' + df['device_deviceCategory']\n",
    "    df['browser_operatingSystem'] = df['device_browser'] + '_' + df['device_operatingSystem']\n",
    "\n",
    "    df['month_unique_user_count'] = df.groupby('month')['fullVisitorId'].transform('nunique')\n",
    "    df['day_unique_user_count'] = df.groupby('day')['fullVisitorId'].transform('nunique')\n",
    "    df['weekday_unique_user_count'] = df.groupby('weekday')['fullVisitorId'].transform('nunique')\n",
    "    df['weekofyear_unique_user_count'] = df.groupby('weekofyear')['fullVisitorId'].transform('nunique')\n",
    "    \n",
    "    \n",
    "    df['sum_pageviews_per_network_domain'] = df.groupby('geoNetwork_networkDomain')['totals_pageviews'].transform('sum')\n",
    "    df['count_pageviews_per_network_domain'] = df.groupby('geoNetwork_networkDomain')['totals_pageviews'].transform('count')\n",
    "    df['mean_pageviews_per_network_domain'] = df.groupby('geoNetwork_networkDomain')['totals_pageviews'].transform('mean')\n",
    "    df['sum_hits_per_network_domain'] = df.groupby('geoNetwork_networkDomain')['totals_hits'].transform('sum')\n",
    "    df['count_hits_per_network_domain'] = df.groupby('geoNetwork_networkDomain')['totals_hits'].transform('count')\n",
    "    df['mean_hits_per_network_domain'] = df.groupby('geoNetwork_networkDomain')['totals_hits'].transform('mean')\n",
    "    \n",
    "    df['mean_hits_per_day'] = df.groupby(['day'])['totals_hits'].transform('mean')\n",
    "    df['sum_hits_per_day'] = df.groupby(['day'])['totals_hits'].transform('sum')\n",
    "    \n",
    "    df['sum_pageviews_per_network_domain'] = df.groupby('geoNetwork_networkDomain')['totals_pageviews'].transform('sum')\n",
    "    df['count_pageviews_per_network_domain'] = df.groupby('geoNetwork_networkDomain')['totals_pageviews'].transform('count')\n",
    "    df['mean_pageviews_per_network_domain'] = df.groupby('geoNetwork_networkDomain')['totals_pageviews'].transform('mean')\n",
    "\n",
    "    df['sum_pageviews_per_region'] = df.groupby('geoNetwork_region')['totals_pageviews'].transform('sum')\n",
    "    df['count_pageviews_per_region'] = df.groupby('geoNetwork_region')['totals_pageviews'].transform('count')\n",
    "    df['mean_pageviews_per_region'] = df.groupby('geoNetwork_region')['totals_pageviews'].transform('mean')\n",
    "    \n",
    "    df['sum_hits_per_network_domain'] = df.groupby('geoNetwork_networkDomain')['totals_hits'].transform('sum')\n",
    "    df['count_hits_per_network_domain'] = df.groupby('geoNetwork_networkDomain')['totals_hits'].transform('count')\n",
    "    df['mean_hits_per_network_domain'] = df.groupby('geoNetwork_networkDomain')['totals_hits'].transform('mean')\n",
    "\n",
    "    df['sum_hits_per_region'] = df.groupby('geoNetwork_region')['totals_hits'].transform('sum')\n",
    "    df['count_hits_per_region'] = df.groupby('geoNetwork_region')['totals_hits'].transform('count')\n",
    "    df['mean_hits_per_region'] = df.groupby('geoNetwork_region')['totals_hits'].transform('mean')\n",
    "\n",
    "    df['sum_hits_per_country'] = df.groupby('geoNetwork_country')['totals_hits'].transform('sum')\n",
    "    df['count_hits_per_country'] = df.groupby('geoNetwork_country')['totals_hits'].transform('count')\n",
    "    df['mean_hits_per_country'] = df.groupby('geoNetwork_country')['totals_hits'].transform('mean')\n",
    "    \n",
    "    df['user_pageviews_sum'] = df.groupby('fullVisitorId')['totals_pageviews'].transform('sum')\n",
    "    df['user_hits_sum'] = df.groupby('fullVisitorId')['totals_hits'].transform('sum')\n",
    "    \n",
    "    df['user_pageviews_count'] = df.groupby('fullVisitorId')['totals_pageviews'].transform('count')\n",
    "    df['user_hits_count'] = df.groupby('fullVisitorId')['totals_hits'].transform('count')\n",
    "\n",
    "    \n",
    "    df['user_pageviews_sum_to_mean'] = df['user_pageviews_sum'] / df['user_pageviews_sum'].mean()\n",
    "    df['user_hits_sum_to_mean'] = df['user_hits_sum'] / df['user_hits_sum'].mean()\n",
    "\n",
    "    df['user_pageviews_to_region'] = df['user_pageviews_sum'] / df['mean_pageviews_per_region']\n",
    "    df['user_hits_to_region'] = df['user_hits_sum'] / df['mean_hits_per_region']\n",
    "    \n",
    "    return df"
   ]
  },
  {
   "cell_type": "code",
   "execution_count": 10,
   "metadata": {
    "_uuid": "0013141da2777f0ac9d4b2feffed3c153930c44e"
   },
   "outputs": [],
   "source": [
    "df_train = feature_engineering(df_train)\n",
    "df_test = feature_engineering(df_test)"
   ]
  },
  {
   "cell_type": "code",
   "execution_count": null,
   "metadata": {},
   "outputs": [],
   "source": []
  },
  {
   "cell_type": "code",
   "execution_count": 11,
   "metadata": {
    "_uuid": "16605dd219a0e49bb3ab9ddd0629c34ea7f948e1",
    "scrolled": false
   },
   "outputs": [
    {
     "name": "stdout",
     "output_type": "stream",
     "text": [
      "channelGrouping\n",
      "device_browser\n",
      "device_deviceCategory\n",
      "device_operatingSystem\n",
      "geoNetwork_city\n",
      "geoNetwork_continent\n",
      "geoNetwork_country\n",
      "geoNetwork_metro\n",
      "geoNetwork_networkDomain\n",
      "geoNetwork_region\n",
      "geoNetwork_subContinent\n",
      "trafficSource_adContent\n",
      "trafficSource_adwordsClickInfo.adNetworkType\n",
      "trafficSource_adwordsClickInfo.gclId\n",
      "trafficSource_adwordsClickInfo.slot\n",
      "trafficSource_campaign\n",
      "trafficSource_keyword\n",
      "trafficSource_medium\n",
      "trafficSource_referralPath\n",
      "trafficSource_source\n",
      "customDimensions_value\n",
      "browser_category\n",
      "browser_operatingSystem\n"
     ]
    }
   ],
   "source": [
    "encode_data(verbose=True)\n",
    "prepare_data(df_train_encoded,df_test_encoded,del_col=['fullVisitorId','visitId',\n",
    "            'visitStartTime','date'],to_log=['visitNumber','totals_hits','totals_pageviews',\n",
    "            'totals_sessionQualityDim','totals_timeOnSite','trafficSource_keyword'])\n",
    "# prepare_data(df_train_encoded,df_test_encoded,del_col=['fullVisitorId','visitId',\n",
    "#             'visitStartTime','date'])\n",
    "\n"
   ]
  },
  {
   "cell_type": "code",
   "execution_count": 60,
   "metadata": {},
   "outputs": [],
   "source": [
    "class TimeSeriasValidation():\n",
    "    def __init__(self, data, n_splits=4):\n",
    "        folds = TimeSeriesSplit(n_splits)\n",
    "        ids = np.arange(data.shape[0])\n",
    "        \n",
    "        self.fold_ids = []\n",
    "        for train_index, test_index in folds.split(data):\n",
    "             self.fold_ids.append([train_index,test_index])\n",
    "            \n",
    "    def validate(self, train, test, features, model, name=\"\", prepare_stacking=False, \n",
    "                 fit_params={\"early_stopping_rounds\": 25, \"verbose\": 100, \"eval_metric\": \"rmse\"}):\n",
    "        model.FI = pd.DataFrame(index=features)\n",
    "        full_score = 0\n",
    "        \n",
    "        if prepare_stacking:\n",
    "            test[name] = 0\n",
    "            train[name] = 0\n",
    "        \n",
    "        for fold_id, (trn, val) in enumerate(self.fold_ids):\n",
    "            devel = train[features].iloc[trn]\n",
    "            y_devel = y_train.iloc[trn]\n",
    "            valid = train[features].iloc[val]\n",
    "            y_valid = y_train.iloc[val]\n",
    "                       \n",
    "            print(\"Fold \", fold_id, \":\")\n",
    "            model.fit(devel, y_devel, eval_set=[(valid, y_valid)], **fit_params)\n",
    "            \n",
    "            if len(model.feature_importances_) == len(features):  # some bugs in catboost?\n",
    "                model.FI['fold' + str(fold_id)] = model.feature_importances_ / model.feature_importances_.sum()\n",
    "\n",
    "            predictions = model.predict(valid)\n",
    "            predictions[predictions < 0] = 0\n",
    "            print(\"Fold \", fold_id, \" error: \", mean_squared_error(y_valid, predictions)**0.5)\n",
    "            \n",
    "            fold_score = mean_squared_error(y_valid, predictions)**0.5\n",
    "            full_score += fold_score / len(self.fold_ids)\n",
    "            print(\"Fold \", fold_id, \" score: \", fold_score)\n",
    "            \n",
    "            if prepare_stacking: # and fold_id >2:\n",
    "                \n",
    "                train_predictions = model.predict(train[features])\n",
    "                train_predictions[train_predictions < 0] = 0\n",
    "                #train[name] += train_predictions / len(self.fold_ids)\n",
    "                train[name] += train_predictions / (len(self.fold_ids))#/2)\n",
    "                #print(train[name].mean())\n",
    "                #train[name] += model.predict(train[features]) / len(self.fold_ids)  \n",
    "                \n",
    "                test_predictions = model.predict(test[features])\n",
    "                test_predictions[test_predictions < 0] = 0\n",
    "                #test[name] += test_predictions / len(self.fold_ids)\n",
    "                test[name] += test_predictions / (len(self.fold_ids))#/2)\n",
    "                \n",
    "                \n",
    "        print(\"Final score: \", full_score)\n",
    "        return full_score"
   ]
  },
  {
   "cell_type": "code",
   "execution_count": 80,
   "metadata": {},
   "outputs": [],
   "source": [
    "class TimeSeriasValidation():\n",
    "    def __init__(self, data, n_splits=4):\n",
    "        folds = TimeSeriesSplit(n_splits)\n",
    "        ids = np.arange(data.shape[0])\n",
    "        \n",
    "        self.fold_ids = []\n",
    "        for train_index, test_index in folds.split(data):\n",
    "             self.fold_ids.append([train_index,test_index])\n",
    "            \n",
    "    def validate(self, train, test, features, model, name=\"\", prepare_stacking=False, \n",
    "                 fit_params={\"early_stopping_rounds\": 25, \"verbose\": 100, \"eval_metric\": \"rmse\"}):\n",
    "        model.FI = pd.DataFrame(index=features)\n",
    "        full_score = 0\n",
    "        \n",
    "        if prepare_stacking:\n",
    "            test[name] = 0\n",
    "            train[name] = 0\n",
    "        \n",
    "        for fold_id, (trn, val) in enumerate(self.fold_ids):\n",
    "            devel = train[features].iloc[trn]\n",
    "            y_devel = y_train.iloc[trn]\n",
    "            valid = train[features].iloc[val]\n",
    "            y_valid = y_train.iloc[val]\n",
    "                       \n",
    "            print(\"Fold \", fold_id, \":\")\n",
    "            #model.fit(devel, y_devel, eval_set=[(valid, y_valid)], **fit_params)\n",
    "            \n",
    "            params = {'objective':'reg:linear','eval_metric':'rmse','learning_rate':.01, 'eta': 0.15, 'subsample': 0.6, 'colsample_bytree': 0.6, 'lambda':1, 'random_state': 42,'silent':True }\n",
    "    \n",
    "    \n",
    "    # got params from https://www.kaggle.com/kailex/group-xgb-for-gstore-v2\n",
    "            params['n_thread'] = -1\n",
    "            params['max_depth'] = 8\n",
    "            params['min_child_weight'] = 100\n",
    "            params['gamma'] = 5\n",
    "            params['subsample'] = 1\n",
    "            params['colsample_bytree'] = .95\n",
    "            params['colsample_bylevel'] = 0.35\n",
    "            params['alpha'] = 25\n",
    "            params['lambda'] = 25\n",
    "    \n",
    "            xgb_train_data = xgb.DMatrix(devel, y_devel)\n",
    "            xgb_val_data = xgb.DMatrix(valid, y_valid)\n",
    "    \n",
    "            model = xgb.train(params, xgb_train_data,\n",
    "        #           num_boost_round=1000, # V3 : 1.0471 on LB\n",
    "        #           num_boost_round=200, # 1.0471 on LB\n",
    "                  num_boost_round = 200,\n",
    "                  evals= [(xgb_train_data, 'train'), (xgb_val_data, 'valid')],\n",
    "        #           early_stopping_rounds=10, # V11 0.9301 on LB\n",
    "                  early_stopping_rounds=25, \n",
    "                  verbose_eval=20)\n",
    "            \n",
    "            test_matrix = xgb.DMatrix(valid[features])\n",
    "            \n",
    "            predictions = model.predict(test_matrix,ntree_limit=clf.best_ntree_limit)\n",
    "            predictions[predictions < 0] = 0\n",
    "            print(\"Fold \", fold_id, \" error: \", mean_squared_error(y_valid, predictions)**0.5)\n",
    "            \n",
    "            fold_score = mean_squared_error(y_valid, predictions)**0.5\n",
    "            full_score += fold_score / len(self.fold_ids)\n",
    "            print(\"Fold \", fold_id, \" score: \", fold_score)\n",
    "            \n",
    "            if prepare_stacking: # and fold_id >2:\n",
    "                \n",
    "                pred_matrix = xgb.DMatrix(test[features])\n",
    "                \n",
    "                test_predictions = model.predict(pred_matrix,ntree_limit=clf.best_ntree_limit)\n",
    "                test_predictions[test_predictions < 0] = 0\n",
    "                test[name] += test_predictions / (len(self.fold_ids))#/2)\n",
    "                \n",
    "                \n",
    "        print(\"Final score: \", full_score)\n",
    "        return full_score"
   ]
  },
  {
   "cell_type": "code",
   "execution_count": 81,
   "metadata": {},
   "outputs": [],
   "source": [
    "TimeSfolder = TimeSeriasValidation(X_train,4)"
   ]
  },
  {
   "cell_type": "code",
   "execution_count": 82,
   "metadata": {},
   "outputs": [
    {
     "name": "stdout",
     "output_type": "stream",
     "text": [
      "Fold  0 :\n",
      "[0]\ttrain-rmse:1.91166\tvalid-rmse:1.9421\n",
      "Multiple eval metrics have been passed: 'valid-rmse' will be used for early stopping.\n",
      "\n",
      "Will train until valid-rmse hasn't improved in 25 rounds.\n",
      "[20]\ttrain-rmse:1.58466\tvalid-rmse:1.60861\n",
      "[40]\ttrain-rmse:1.30378\tvalid-rmse:1.32122\n",
      "[60]\ttrain-rmse:1.07533\tvalid-rmse:1.08739\n",
      "[80]\ttrain-rmse:0.888664\tvalid-rmse:0.896435\n",
      "[100]\ttrain-rmse:0.742174\tvalid-rmse:0.747041\n",
      "[120]\ttrain-rmse:0.617559\tvalid-rmse:0.61939\n",
      "[140]\ttrain-rmse:0.512917\tvalid-rmse:0.511787\n",
      "[160]\ttrain-rmse:0.430361\tvalid-rmse:0.427037\n",
      "[180]\ttrain-rmse:0.36346\tvalid-rmse:0.358545\n",
      "[199]\ttrain-rmse:0.310466\tvalid-rmse:0.3044\n",
      "Fold  0  error:  0.3043999385157293\n",
      "Fold  0  score:  0.3043999385157293\n",
      "Fold  1 :\n",
      "[0]\ttrain-rmse:1.92694\tvalid-rmse:2.10888\n",
      "Multiple eval metrics have been passed: 'valid-rmse' will be used for early stopping.\n",
      "\n",
      "Will train until valid-rmse hasn't improved in 25 rounds.\n",
      "[20]\ttrain-rmse:1.59181\tvalid-rmse:1.74264\n",
      "[40]\ttrain-rmse:1.31591\tvalid-rmse:1.44108\n",
      "[60]\ttrain-rmse:1.08206\tvalid-rmse:1.18513\n",
      "[80]\ttrain-rmse:0.890131\tvalid-rmse:0.974751\n",
      "[100]\ttrain-rmse:0.734647\tvalid-rmse:0.804097\n",
      "[120]\ttrain-rmse:0.606148\tvalid-rmse:0.663396\n",
      "[140]\ttrain-rmse:0.508132\tvalid-rmse:0.556065\n",
      "[160]\ttrain-rmse:0.421208\tvalid-rmse:0.460666\n",
      "[180]\ttrain-rmse:0.350561\tvalid-rmse:0.382801\n",
      "[199]\ttrain-rmse:0.296069\tvalid-rmse:0.322709\n",
      "Fold  1  error:  0.32270846804908127\n",
      "Fold  1  score:  0.32270846804908127\n",
      "Fold  2 :\n",
      "[0]\ttrain-rmse:1.98943\tvalid-rmse:1.9583\n",
      "Multiple eval metrics have been passed: 'valid-rmse' will be used for early stopping.\n",
      "\n",
      "Will train until valid-rmse hasn't improved in 25 rounds.\n",
      "[20]\ttrain-rmse:1.64317\tvalid-rmse:1.61438\n",
      "[40]\ttrain-rmse:1.34875\tvalid-rmse:1.32214\n",
      "[60]\ttrain-rmse:1.10948\tvalid-rmse:1.08485\n",
      "[80]\ttrain-rmse:0.911149\tvalid-rmse:0.888261\n",
      "[100]\ttrain-rmse:0.760719\tvalid-rmse:0.738863\n",
      "[120]\ttrain-rmse:0.626548\tvalid-rmse:0.606122\n",
      "[140]\ttrain-rmse:0.516993\tvalid-rmse:0.497722\n",
      "[160]\ttrain-rmse:0.428834\tvalid-rmse:0.410306\n",
      "[180]\ttrain-rmse:0.356439\tvalid-rmse:0.338956\n",
      "[199]\ttrain-rmse:0.301193\tvalid-rmse:0.284858\n",
      "Fold  2  error:  0.2848582351665752\n",
      "Fold  2  score:  0.2848582351665752\n",
      "Fold  3 :\n",
      "[0]\ttrain-rmse:1.98172\tvalid-rmse:1.52623\n",
      "Multiple eval metrics have been passed: 'valid-rmse' will be used for early stopping.\n",
      "\n",
      "Will train until valid-rmse hasn't improved in 25 rounds.\n",
      "[20]\ttrain-rmse:1.63609\tvalid-rmse:1.25828\n",
      "[40]\ttrain-rmse:1.35021\tvalid-rmse:1.0365\n",
      "[60]\ttrain-rmse:1.10745\tvalid-rmse:0.848159\n",
      "[80]\ttrain-rmse:0.90968\tvalid-rmse:0.695367\n",
      "[100]\ttrain-rmse:0.748747\tvalid-rmse:0.571494\n",
      "[120]\ttrain-rmse:0.617237\tvalid-rmse:0.470101\n",
      "[140]\ttrain-rmse:0.508702\tvalid-rmse:0.386367\n",
      "[160]\ttrain-rmse:0.420638\tvalid-rmse:0.318476\n",
      "[180]\ttrain-rmse:0.348578\tvalid-rmse:0.263544\n",
      "[199]\ttrain-rmse:0.292145\tvalid-rmse:0.220476\n",
      "Fold  3  error:  0.22047612261151645\n",
      "Fold  3  score:  0.22047612261151645\n",
      "Final score:  0.2831106910857255\n"
     ]
    },
    {
     "data": {
      "text/plain": [
       "0.2831106910857255"
      ]
     },
     "execution_count": 82,
     "metadata": {},
     "output_type": "execute_result"
    }
   ],
   "source": [
    "TimeSfolder.validate(X_train,X_test, X_train.columns, xgb, \"lgbpred\", prepare_stacking=True)"
   ]
  },
  {
   "cell_type": "code",
   "execution_count": null,
   "metadata": {},
   "outputs": [],
   "source": [
    "#0.2831106910857255 200 n_roounds\n",
    "#0.2591649420889318 500 n_roounds 0.42998 on pred"
   ]
  },
  {
   "cell_type": "code",
   "execution_count": 79,
   "metadata": {},
   "outputs": [
    {
     "name": "stdout",
     "output_type": "stream",
     "text": [
      "0.42998\n"
     ]
    }
   ],
   "source": [
    "test(X_test.lgbpred)\n",
    "df_test['PredictedLogRevenue'] = X_test.lgbpred\n",
    "engineer_prediction\n",
    "#print('rmse after engineer prediction')\n",
    "#print(rmse(X_test.lgbpred,df_test['PredictedLogRevenue']))\n",
    "submit = df_test[['PredictedLogRevenue','fullVisitorId']].groupby('fullVisitorId').PredictedLogRevenue.sum().reset_index()\n",
    "submit.to_csv('submit_xgb_TScv.csv',index=False)"
   ]
  },
  {
   "cell_type": "code",
   "execution_count": null,
   "metadata": {},
   "outputs": [],
   "source": []
  },
  {
   "cell_type": "code",
   "execution_count": 67,
   "metadata": {},
   "outputs": [],
   "source": [
    "import lightgbm as lgb"
   ]
  },
  {
   "cell_type": "code",
   "execution_count": 62,
   "metadata": {},
   "outputs": [],
   "source": [
    "TimeSfolder = TimeSeriasValidation(X_train,4)"
   ]
  },
  {
   "cell_type": "code",
   "execution_count": 63,
   "metadata": {},
   "outputs": [],
   "source": [
    "lgbmodel = lgb.LGBMRegressor(n_estimators=800, objective=\"regression\", metric=\"rmse\", num_leaves=13, min_child_samples=75,\n",
    "                      learning_rate=0.15, bagging_fraction=0.75, feature_fraction=0.55, bagging_frequency=6, \n",
    "                      bagging_seed=12345, subsample=.9, colsample_bytree=.9, use_best_model=True)\n",
    "#catmodel = cat.CatBoostRegressor(iterations=500, learning_rate=0.2, depth=5, random_seed=2019)"
   ]
  },
  {
   "cell_type": "code",
   "execution_count": 64,
   "metadata": {
    "scrolled": true
   },
   "outputs": [
    {
     "name": "stdout",
     "output_type": "stream",
     "text": [
      "Fold  0 :\n",
      "Training until validation scores don't improve for 25 rounds.\n",
      "[100]\tvalid_0's rmse: 0.0399706\n",
      "[200]\tvalid_0's rmse: 0.0379461\n",
      "[300]\tvalid_0's rmse: 0.0362119\n",
      "[400]\tvalid_0's rmse: 0.0348558\n",
      "Early stopping, best iteration is:\n",
      "[447]\tvalid_0's rmse: 0.0343275\n",
      "Fold  0  error:  0.03297419050478618\n",
      "Fold  0  score:  0.03297419050478618\n",
      "Fold  1 :\n",
      "Training until validation scores don't improve for 25 rounds.\n",
      "[100]\tvalid_0's rmse: 0.0322721\n",
      "[200]\tvalid_0's rmse: 0.0295117\n",
      "[300]\tvalid_0's rmse: 0.028561\n",
      "[400]\tvalid_0's rmse: 0.0281268\n",
      "[500]\tvalid_0's rmse: 0.0279178\n",
      "[600]\tvalid_0's rmse: 0.027535\n",
      "Early stopping, best iteration is:\n",
      "[654]\tvalid_0's rmse: 0.027432\n",
      "Fold  1  error:  0.027119589500652328\n",
      "Fold  1  score:  0.027119589500652328\n",
      "Fold  2 :\n",
      "Training until validation scores don't improve for 25 rounds.\n",
      "[100]\tvalid_0's rmse: 0.0283652\n",
      "[200]\tvalid_0's rmse: 0.0263678\n",
      "[300]\tvalid_0's rmse: 0.0253879\n",
      "Early stopping, best iteration is:\n",
      "[301]\tvalid_0's rmse: 0.0253838\n",
      "Fold  2  error:  0.024858670818989025\n",
      "Fold  2  score:  0.024858670818989025\n",
      "Fold  3 :\n",
      "Training until validation scores don't improve for 25 rounds.\n",
      "[100]\tvalid_0's rmse: 0.0188367\n",
      "[200]\tvalid_0's rmse: 0.0180525\n",
      "Early stopping, best iteration is:\n",
      "[229]\tvalid_0's rmse: 0.0179218\n",
      "Fold  3  error:  0.01762255880207991\n",
      "Fold  3  score:  0.01762255880207991\n",
      "Final score:  0.025643752406626863\n"
     ]
    },
    {
     "data": {
      "text/plain": [
       "0.025643752406626863"
      ]
     },
     "execution_count": 64,
     "metadata": {},
     "output_type": "execute_result"
    }
   ],
   "source": [
    "TimeSfolder.validate(X_train,X_test, X_train.columns, lgbmodel, \"lgbpred\", prepare_stacking=True)"
   ]
  },
  {
   "cell_type": "code",
   "execution_count": null,
   "metadata": {},
   "outputs": [],
   "source": [
    "#0.029667376323395535\n",
    "#0.026575249785645644 - new param\n",
    "#0.025643752406626863 - + new valid"
   ]
  },
  {
   "cell_type": "code",
   "execution_count": 65,
   "metadata": {
    "scrolled": true
   },
   "outputs": [
    {
     "name": "stdout",
     "output_type": "stream",
     "text": [
      "0.14819\n"
     ]
    }
   ],
   "source": [
    "test(X_test.lgbpred)\n",
    "df_test['PredictedLogRevenue'] = X_test.lgbpred\n",
    "engineer_prediction\n",
    "#print('rmse after engineer prediction')\n",
    "#print(rmse(X_test.lgbpred,df_test['PredictedLogRevenue']))\n",
    "submit = df_test[['PredictedLogRevenue','fullVisitorId']].groupby('fullVisitorId').PredictedLogRevenue.sum().reset_index()\n",
    "submit.to_csv('submit_lgbm_TScv2.csv',index=False)"
   ]
  },
  {
   "cell_type": "code",
   "execution_count": 35,
   "metadata": {},
   "outputs": [],
   "source": [
    "features = X_train.columns[:-1]"
   ]
  },
  {
   "cell_type": "code",
   "execution_count": 47,
   "metadata": {},
   "outputs": [
    {
     "name": "stdout",
     "output_type": "stream",
     "text": [
      "Fitting 3 folds for each of 27 candidates, totalling 81 fits\n"
     ]
    },
    {
     "name": "stderr",
     "output_type": "stream",
     "text": [
      "[Parallel(n_jobs=20)]: Done  10 tasks      | elapsed:  3.5min\n",
      "[Parallel(n_jobs=20)]: Done  81 out of  81 | elapsed: 20.6min finished\n"
     ]
    },
    {
     "data": {
      "text/plain": [
       "0.03438"
      ]
     },
     "execution_count": 47,
     "metadata": {},
     "output_type": "execute_result"
    }
   ],
   "source": [
    "paramsl = {'n_estimators':[200], \n",
    "          'objective':[\"regression\"], 'metric':[\"rmse\"], \n",
    "          'num_leaves':[12,13,14], \n",
    "          'min_child_samples':[73,75,77],\n",
    "          'learning_rate':[0.13,0.15,0.17], \n",
    "          'bagging_fraction':[0.75], \n",
    "          'feature_fraction':[0.55],\n",
    "          'bagging_frequency':[6], \n",
    "          'bagging_seed':[12345], \n",
    "          'subsample':[.9], \n",
    "          'colsample_bytree':[.9], \n",
    "          'use_best_model':[True]\n",
    "}\n",
    "\n",
    "xgbmodel = xgb.XGBRegressor(n_jobs=20)\n",
    "lgbmodel = lgb.LGBMRegressor(n_jobs=20)\n",
    "\n",
    "gs = GridSearchCV(lgbmodel,\n",
    "                  param_grid=paramsl,\n",
    "                  cv=TimeSeriesSplit(3),\n",
    "#                      scoring=\"neg_mean_squared_error\",\n",
    "                  n_jobs=20,\n",
    "                  verbose=1)\n",
    "gs.fit(X_train[features], y_train)\n",
    "y_pred = gs.predict(X_valid[features])\n",
    "rmse(y_valid,y_pred)"
   ]
  },
  {
   "cell_type": "code",
   "execution_count": 46,
   "metadata": {},
   "outputs": [
    {
     "data": {
      "text/plain": [
       "{'bagging_fraction': 0.75,\n",
       " 'bagging_frequency': 6,\n",
       " 'bagging_seed': 12345,\n",
       " 'colsample_bytree': 0.9,\n",
       " 'feature_fraction': 0.55,\n",
       " 'learning_rate': 0.15,\n",
       " 'metric': 'rmse',\n",
       " 'min_child_samples': 75,\n",
       " 'n_estimators': 200,\n",
       " 'num_leaves': 13,\n",
       " 'objective': 'regression',\n",
       " 'subsample': 0.9,\n",
       " 'use_best_model': True}"
      ]
     },
     "execution_count": 46,
     "metadata": {},
     "output_type": "execute_result"
    }
   ],
   "source": [
    "gs.best_params_ #0.02918"
   ]
  },
  {
   "cell_type": "code",
   "execution_count": 44,
   "metadata": {},
   "outputs": [
    {
     "data": {
      "text/plain": [
       "{'bagging_fraction': 0.75,\n",
       " 'bagging_frequency': 6,\n",
       " 'bagging_seed': 12345,\n",
       " 'colsample_bytree': 0.9,\n",
       " 'feature_fraction': 0.55,\n",
       " 'learning_rate': 0.15,\n",
       " 'metric': 'rmse',\n",
       " 'min_child_samples': 75,\n",
       " 'n_estimators': 200,\n",
       " 'num_leaves': 10,\n",
       " 'objective': 'regression',\n",
       " 'subsample': 0.9,\n",
       " 'use_best_model': True}"
      ]
     },
     "execution_count": 44,
     "metadata": {},
     "output_type": "execute_result"
    }
   ],
   "source": [
    "gs.best_params_ #0.03054"
   ]
  },
  {
   "cell_type": "code",
   "execution_count": 42,
   "metadata": {},
   "outputs": [
    {
     "data": {
      "text/plain": [
       "{'bagging_fraction': 0.75,\n",
       " 'bagging_frequency': 6,\n",
       " 'bagging_seed': 12345,\n",
       " 'colsample_bytree': 0.9,\n",
       " 'feature_fraction': 0.55,\n",
       " 'learning_rate': 0.1,\n",
       " 'metric': 'rmse',\n",
       " 'min_child_samples': 80,\n",
       " 'n_estimators': 200,\n",
       " 'num_leaves': 15,\n",
       " 'objective': 'regression',\n",
       " 'subsample': 0.9,\n",
       " 'use_best_model': True}"
      ]
     },
     "execution_count": 42,
     "metadata": {},
     "output_type": "execute_result"
    }
   ],
   "source": [
    "#gs.best_params_ #0.03495"
   ]
  },
  {
   "cell_type": "code",
   "execution_count": 40,
   "metadata": {},
   "outputs": [
    {
     "data": {
      "text/plain": [
       "{'bagging_fraction': 0.75,\n",
       " 'bagging_frequency': 6,\n",
       " 'bagging_seed': 12345,\n",
       " 'colsample_bytree': 0.9,\n",
       " 'feature_fraction': 0.55,\n",
       " 'learning_rate': 0.1,\n",
       " 'metric': 'rmse',\n",
       " 'min_child_samples': 80,\n",
       " 'n_estimators': 200,\n",
       " 'num_leaves': 25,\n",
       " 'objective': 'regression',\n",
       " 'subsample': 0.9,\n",
       " 'use_best_model': True}"
      ]
     },
     "execution_count": 40,
     "metadata": {},
     "output_type": "execute_result"
    }
   ],
   "source": [
    "# gs.best_params_ # 0.03624"
   ]
  },
  {
   "cell_type": "code",
   "execution_count": 12,
   "metadata": {
    "_uuid": "c26b1e30bf504d9c9cec95146656358ed844970e",
    "scrolled": true
   },
   "outputs": [
    {
     "name": "stdout",
     "output_type": "stream",
     "text": [
      "[0]\ttrain-rmse:1.89939\tvalid-rmse:1.64273\n",
      "Multiple eval metrics have been passed: 'valid-rmse' will be used for early stopping.\n",
      "\n",
      "Will train until valid-rmse hasn't improved in 50 rounds.\n",
      "[20]\ttrain-rmse:1.55805\tvalid-rmse:1.34882\n",
      "[40]\ttrain-rmse:1.28673\tvalid-rmse:1.11512\n",
      "[60]\ttrain-rmse:1.06259\tvalid-rmse:0.921494\n",
      "[80]\ttrain-rmse:0.87307\tvalid-rmse:0.758732\n",
      "[100]\ttrain-rmse:0.722905\tvalid-rmse:0.62962\n",
      "[120]\ttrain-rmse:0.603277\tvalid-rmse:0.52672\n",
      "[140]\ttrain-rmse:0.497445\tvalid-rmse:0.435266\n",
      "[160]\ttrain-rmse:0.412016\tvalid-rmse:0.362226\n",
      "[180]\ttrain-rmse:0.34123\tvalid-rmse:0.301048\n",
      "[200]\ttrain-rmse:0.284056\tvalid-rmse:0.251608\n",
      "[209]\ttrain-rmse:0.261986\tvalid-rmse:0.232599\n",
      "Wall time: 6min 35s\n"
     ]
    }
   ],
   "source": [
    "%%time\n",
    "clf = run_xgb()"
   ]
  },
  {
   "cell_type": "code",
   "execution_count": null,
   "metadata": {
    "_uuid": "9b3094980c0ec926539821a462d0ee2d65abe9ea"
   },
   "outputs": [],
   "source": [
    "#[199]\ttrain-rmse:0.286631\tvalid-rmse:0.253844\n",
    "#lb 0.9748\n",
    "\n",
    "# early_stopping_rounds=10 - 2000 итераций\n",
    "# [1311]\ttrain-rmse:0.035747\tvalid-rmse:0.034632\n",
    "# lb  1.1325\n",
    "\n",
    "# early_stopping_rounds=50 - 400 итераций\n",
    "#[399]\ttrain-rmse:0.068595\tvalid-rmse:0.06478\n",
    "# lb 1.1121,        \n",
    "\n",
    "#[209]\ttrain-rmse:0.261986\tvalid-rmse:0.232599\n",
    "\n",
    "#LGBM+TScv lb 1.1123 and 0.34796 local\n",
    "\n",
    "# try to find a good validation set\n",
    "# Why our score so different with the leader board?\n",
    "# check with the target in dataset first"
   ]
  },
  {
   "cell_type": "code",
   "execution_count": null,
   "metadata": {},
   "outputs": [
    {
     "name": "stdout",
     "output_type": "stream",
     "text": [
      "Fitting 3 folds for each of 96 candidates, totalling 288 fits\n"
     ]
    }
   ],
   "source": [
    "    params = {\n",
    "        'objective':['reg:linear'],\n",
    "#        'eval_metric':['rmse'],\n",
    "        'learning_rate': [.01,.1],\n",
    "        'n_estimators' : [100],\n",
    "#        'eta': [0.10,0.15,0.20], # Step size shrinkage used in update to prevents overfitting\n",
    "#         'max_depth': 10, # V3 : 1.0471 on LB\n",
    "         'max_depth': [6,8,10], # V5 : 0.9331 on LB\n",
    "        'subsample': [0.5,0.6,0.7,1], # sample of rows\n",
    "        'colsample_bytree': [0.5,0.6,0.7,0.95], # sample of features\n",
    "        'colsample_bylevel' :[ 0.35],\n",
    " #        'alpha':[0.001,25], \n",
    " #       'lambda':[1,25], # l2 regu\n",
    "        'min_child_weight' : [100],\n",
    "        'random_state': [42],\n",
    "        'silent':[True]\n",
    "        \n",
    "    }\n",
    "    \n",
    "\n",
    "    #xgb_train_data = xgb.DMatrix(X_train, y_train)\n",
    "    #xgb_val_data = xgb.DMatrix(X_valid, y_valid)\n",
    "\n",
    "    \n",
    "    xgbmodel = xgb.XGBRegressor(n_jobs=32)\n",
    "    \n",
    "    \n",
    "    gs = GridSearchCV(xgbmodel,\n",
    "                      param_grid=params,\n",
    "                      cv=3,#TimeSeriesSplit(3),\n",
    "#                      scoring=\"neg_mean_squared_error\",\n",
    "                      n_jobs=32,\n",
    "                      verbose=1)\n",
    "#    gs.fit(X_train, y_train)"
   ]
  },
  {
   "cell_type": "code",
   "execution_count": 57,
   "metadata": {},
   "outputs": [
    {
     "data": {
      "text/plain": [
       "0.35703"
      ]
     },
     "execution_count": 57,
     "metadata": {},
     "output_type": "execute_result"
    }
   ],
   "source": [
    "y_pred = gs.predict(X_valid)\n",
    "rmse(y_valid,y_pred)"
   ]
  },
  {
   "cell_type": "code",
   "execution_count": 51,
   "metadata": {},
   "outputs": [
    {
     "data": {
      "text/plain": [
       "dict_keys(['base_score', 'booster', 'colsample_bylevel', 'colsample_bytree', 'gamma', 'learning_rate', 'max_delta_step', 'max_depth', 'min_child_weight', 'missing', 'n_estimators', 'n_jobs', 'nthread', 'objective', 'random_state', 'reg_alpha', 'reg_lambda', 'scale_pos_weight', 'seed', 'silent', 'subsample'])"
      ]
     },
     "execution_count": 51,
     "metadata": {},
     "output_type": "execute_result"
    }
   ],
   "source": [
    "xgbmodel.get_params().keys()"
   ]
  },
  {
   "cell_type": "markdown",
   "metadata": {
    "_uuid": "392938eb9284e3f800c7f1254891827b39c68d7d"
   },
   "source": [
    "# Feature important"
   ]
  },
  {
   "cell_type": "markdown",
   "metadata": {
    "_uuid": "0101c08148886885c07d41dfa152fb94fc8e604d"
   },
   "source": [
    "\"gain\" is the average gain of splits which use the feature"
   ]
  },
  {
   "cell_type": "code",
   "execution_count": 22,
   "metadata": {
    "_uuid": "63cb30a84b68bec37fe1ffa53d6c708b489731fd"
   },
   "outputs": [
    {
     "data": {
      "text/plain": [
       "Text(0.5,1,'Gain Feature important')"
      ]
     },
     "execution_count": 22,
     "metadata": {},
     "output_type": "execute_result"
    },
    {
     "data": {
      "image/png": "[encoded data removed]",
      "text/plain": [
       "<Figure size 864x432 with 1 Axes>"
      ]
     },
     "metadata": {},
     "output_type": "display_data"
    }
   ],
   "source": [
    "xgb.plot_importance(clf,importance_type='gain',max_num_features=20)\n",
    "plt.title('Gain Feature important')"
   ]
  },
  {
   "cell_type": "markdown",
   "metadata": {
    "_uuid": "81d96c5a110b876e555d19e538fc888d0b051001"
   },
   "source": [
    "\"cover\" is the average coverage of splits which use the feature where coverage is defined as the number of samples affected by the split"
   ]
  },
  {
   "cell_type": "code",
   "execution_count": 23,
   "metadata": {
    "_uuid": "34b2a8c2186d69867ae376671ff291fce662fc99",
    "scrolled": false
   },
   "outputs": [
    {
     "data": {
      "text/plain": [
       "Text(0.5,1,'Cover Feature important')"
      ]
     },
     "execution_count": 23,
     "metadata": {},
     "output_type": "execute_result"
    },
    {
     "data": {
      "image/png": "[encoded data removed]",
      "text/plain": [
       "<Figure size 864x432 with 1 Axes>"
      ]
     },
     "metadata": {},
     "output_type": "display_data"
    }
   ],
   "source": [
    "xgb.plot_importance(clf,importance_type='cover',max_num_features=20)\n",
    "plt.title('Cover Feature important')"
   ]
  },
  {
   "cell_type": "markdown",
   "metadata": {
    "_uuid": "22b8e759c46de5a8031ad3512f7d0b7e679b0a84"
   },
   "source": [
    "\"weight\" is the number of times a feature appears in a tree"
   ]
  },
  {
   "cell_type": "code",
   "execution_count": 24,
   "metadata": {
    "_uuid": "e32fac1da52c2a2e7644e1af7c9a196f573f59dc",
    "scrolled": false
   },
   "outputs": [
    {
     "data": {
      "text/plain": [
       "Text(0.5,1,'Weight Feature important')"
      ]
     },
     "execution_count": 24,
     "metadata": {},
     "output_type": "execute_result"
    },
    {
     "data": {
      "image/png": "[encoded data removed]",
      "text/plain": [
       "<Figure size 864x432 with 1 Axes>"
      ]
     },
     "metadata": {},
     "output_type": "display_data"
    }
   ],
   "source": [
    "xgb.plot_importance(clf,importance_type='weight',max_num_features=20)\n",
    "plt.title('Weight Feature important')"
   ]
  },
  {
   "cell_type": "markdown",
   "metadata": {
    "_uuid": "5dc30a7c4a402a664bcade5046b382ec160a9268"
   },
   "source": [
    "# Submit"
   ]
  },
  {
   "cell_type": "code",
   "execution_count": 36,
   "metadata": {
    "_uuid": "a5c973b9c7ef1d533fcb4c807b7d39a123dfd876"
   },
   "outputs": [
    {
     "name": "stdout",
     "output_type": "stream",
     "text": [
      "rmse after engineer prediction\n",
      "0.0\n"
     ]
    }
   ],
   "source": [
    "submission = submit()\n",
    "submission['PredictedLogRevenue'] = submission['PredictedLogRevenue'].apply(lambda x: 0 if x < 0 else x)\n",
    "submission.to_csv('submit4.csv',index=False)"
   ]
  },
  {
   "cell_type": "code",
   "execution_count": 37,
   "metadata": {
    "_uuid": "9f587453cb66d50c15822707425190512ddab4d0"
   },
   "outputs": [
    {
     "data": {
      "text/html": [
       "<div>\n",
       "<style scoped>\n",
       "    .dataframe tbody tr th:only-of-type {\n",
       "        vertical-align: middle;\n",
       "    }\n",
       "\n",
       "    .dataframe tbody tr th {\n",
       "        vertical-align: top;\n",
       "    }\n",
       "\n",
       "    .dataframe thead th {\n",
       "        text-align: right;\n",
       "    }\n",
       "</style>\n",
       "<table border=\"1\" class=\"dataframe\">\n",
       "  <thead>\n",
       "    <tr style=\"text-align: right;\">\n",
       "      <th></th>\n",
       "      <th>fullVisitorId</th>\n",
       "      <th>PredictedLogRevenue</th>\n",
       "    </tr>\n",
       "  </thead>\n",
       "  <tbody>\n",
       "    <tr>\n",
       "      <th>0</th>\n",
       "      <td>0000018966949534117</td>\n",
       "      <td>0.008794</td>\n",
       "    </tr>\n",
       "    <tr>\n",
       "      <th>1</th>\n",
       "      <td>0000039738481224681</td>\n",
       "      <td>0.008761</td>\n",
       "    </tr>\n",
       "    <tr>\n",
       "      <th>2</th>\n",
       "      <td>0000073585230191399</td>\n",
       "      <td>0.008761</td>\n",
       "    </tr>\n",
       "    <tr>\n",
       "      <th>3</th>\n",
       "      <td>0000087588448856385</td>\n",
       "      <td>0.008761</td>\n",
       "    </tr>\n",
       "    <tr>\n",
       "      <th>4</th>\n",
       "      <td>0000149787903119437</td>\n",
       "      <td>0.008761</td>\n",
       "    </tr>\n",
       "    <tr>\n",
       "      <th>5</th>\n",
       "      <td>0000196310838896290</td>\n",
       "      <td>0.051778</td>\n",
       "    </tr>\n",
       "    <tr>\n",
       "      <th>6</th>\n",
       "      <td>00001995526696366</td>\n",
       "      <td>0.008761</td>\n",
       "    </tr>\n",
       "    <tr>\n",
       "      <th>7</th>\n",
       "      <td>0000255704530917106</td>\n",
       "      <td>0.000000</td>\n",
       "    </tr>\n",
       "    <tr>\n",
       "      <th>8</th>\n",
       "      <td>0000268499301061358</td>\n",
       "      <td>0.008816</td>\n",
       "    </tr>\n",
       "    <tr>\n",
       "      <th>9</th>\n",
       "      <td>0000276747989270229</td>\n",
       "      <td>0.008761</td>\n",
       "    </tr>\n",
       "  </tbody>\n",
       "</table>\n",
       "</div>"
      ],
      "text/plain": [
       "         fullVisitorId  PredictedLogRevenue\n",
       "0  0000018966949534117             0.008794\n",
       "1  0000039738481224681             0.008761\n",
       "2  0000073585230191399             0.008761\n",
       "3  0000087588448856385             0.008761\n",
       "4  0000149787903119437             0.008761\n",
       "5  0000196310838896290             0.051778\n",
       "6    00001995526696366             0.008761\n",
       "7  0000255704530917106             0.000000\n",
       "8  0000268499301061358             0.008816\n",
       "9  0000276747989270229             0.008761"
      ]
     },
     "execution_count": 37,
     "metadata": {},
     "output_type": "execute_result"
    }
   ],
   "source": [
    "#submission['PredictedLogRevenue'] = submission['PredictedLogRevenue'].apply(lambda x: 0 if x < 0 else x)   #[submission['PredictedLogRevenue']<0]['PredictedLogRevenue'] = 0\n",
    "submission.head(10)"
   ]
  },
  {
   "cell_type": "code",
   "execution_count": null,
   "metadata": {
    "_uuid": "5b4c795987399a376ff7f856b2a43d62e76ef57e"
   },
   "outputs": [],
   "source": [
    "os.listdir()"
   ]
  },
  {
   "cell_type": "code",
   "execution_count": null,
   "metadata": {
    "_uuid": "171b4868f331037343e0930111a72edb4c29860a"
   },
   "outputs": [],
   "source": []
  },
  {
   "cell_type": "code",
   "execution_count": null,
   "metadata": {
    "_uuid": "e32583cc487663dd61799cb1960f872eff20bd2c"
   },
   "outputs": [],
   "source": []
  },
  {
   "cell_type": "code",
   "execution_count": null,
   "metadata": {
    "_uuid": "d48f9ea4532b68da11401a92d6dc020f33c791a7"
   },
   "outputs": [],
   "source": []
  },
  {
   "cell_type": "code",
   "execution_count": null,
   "metadata": {
    "_uuid": "24e84945849d90581707fd71c587ead4ba709583"
   },
   "outputs": [],
   "source": []
  }
 ],
 "metadata": {
  "kernelspec": {
   "display_name": "Python 3",
   "language": "python",
   "name": "python3"
  },
  "language_info": {
   "codemirror_mode": {
    "name": "ipython",
    "version": 3
   },
   "file_extension": ".py",
   "mimetype": "text/x-python",
   "name": "python",
   "nbconvert_exporter": "python",
   "pygments_lexer": "ipython3",
   "version": "3.6.5"
  }
 },
 "nbformat": 4,
 "nbformat_minor": 1
}
